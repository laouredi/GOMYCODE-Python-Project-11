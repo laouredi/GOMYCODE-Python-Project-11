{
 "cells": [
  {
   "cell_type": "code",
   "execution_count": 1,
   "id": "6aa8bb9e",
   "metadata": {},
   "outputs": [
    {
     "data": {
      "text/plain": [
       "967"
      ]
     },
     "execution_count": 1,
     "metadata": {},
     "output_type": "execute_result"
    }
   ],
   "source": [
    "mylist=[14, \"hello\", 967]\n",
    "mylist[2]"
   ]
  },
  {
   "cell_type": "code",
   "execution_count": 2,
   "id": "b137a550",
   "metadata": {},
   "outputs": [],
   "source": [
    "import pandas\n",
    "import numpy"
   ]
  },
  {
   "cell_type": "code",
   "execution_count": 3,
   "id": "b3e96e52",
   "metadata": {},
   "outputs": [
    {
     "name": "stdout",
     "output_type": "stream",
     "text": [
      "python errors\n"
     ]
    }
   ],
   "source": [
    "print(\"python errors\")"
   ]
  },
  {
   "cell_type": "code",
   "execution_count": 4,
   "id": "dd043de8",
   "metadata": {},
   "outputs": [
    {
     "name": "stdout",
     "output_type": "stream",
     "text": [
      "hello\n"
     ]
    }
   ],
   "source": [
    "mydictionary = {True: \"hello\", False: \"bye\", '3': \"python\"}\n",
    "print(mydictionary[True])"
   ]
  },
  {
   "cell_type": "code",
   "execution_count": 5,
   "id": "96c4ba67",
   "metadata": {},
   "outputs": [
    {
     "name": "stdout",
     "output_type": "stream",
     "text": [
      "14\n",
      "15\n",
      "16\n",
      "17\n",
      "18\n",
      "19\n",
      "20\n",
      "21\n",
      "22\n",
      "23\n",
      "24\n",
      "25\n",
      "26\n",
      "27\n",
      "28\n",
      "29\n",
      "30\n",
      "31\n",
      "32\n",
      "33\n",
      "34\n",
      "35\n",
      "36\n",
      "37\n",
      "38\n",
      "39\n",
      "40\n",
      "41\n",
      "42\n",
      "43\n",
      "44\n",
      "45\n",
      "46\n",
      "47\n",
      "48\n",
      "49\n",
      "50\n",
      "51\n",
      "52\n",
      "53\n",
      "54\n",
      "55\n",
      "56\n",
      "57\n",
      "58\n",
      "59\n",
      "60\n",
      "61\n",
      "62\n",
      "63\n",
      "64\n",
      "65\n",
      "66\n",
      "67\n",
      "68\n",
      "69\n",
      "70\n",
      "71\n",
      "72\n",
      "73\n",
      "74\n",
      "75\n",
      "76\n",
      "77\n"
     ]
    }
   ],
   "source": [
    "i = 14\n",
    "while i < 78:\n",
    "    print(i)\n",
    "    i += 1"
   ]
  },
  {
   "cell_type": "code",
   "execution_count": 6,
   "id": "51d07d14",
   "metadata": {},
   "outputs": [
    {
     "name": "stdout",
     "output_type": "stream",
     "text": [
      "1\n",
      "2\n",
      "3\n",
      "No more elements in iterator\n"
     ]
    }
   ],
   "source": [
    "it = iter([1, 2, 3])\n",
    "try:\n",
    "    print(next(it))\n",
    "    print(next(it))\n",
    "    print(next(it))\n",
    "    print(next(it))\n",
    "except StopIteration:\n",
    "    print(\"No more elements in iterator\")"
   ]
  },
  {
   "cell_type": "code",
   "execution_count": 7,
   "id": "a8973102",
   "metadata": {},
   "outputs": [
    {
     "data": {
      "text/plain": [
       "'1515'"
      ]
     },
     "execution_count": 7,
     "metadata": {},
     "output_type": "execute_result"
    }
   ],
   "source": [
    "'15' + str(15)"
   ]
  },
  {
   "cell_type": "code",
   "execution_count": 8,
   "id": "f7afea99",
   "metadata": {},
   "outputs": [
    {
     "data": {
      "text/plain": [
       "'python'"
      ]
     },
     "execution_count": 8,
     "metadata": {},
     "output_type": "execute_result"
    }
   ],
   "source": [
    "str('python')"
   ]
  },
  {
   "cell_type": "code",
   "execution_count": 9,
   "id": "0e724356",
   "metadata": {},
   "outputs": [],
   "source": [
    "python = \"\""
   ]
  },
  {
   "cell_type": "code",
   "execution_count": 10,
   "id": "b70dc048",
   "metadata": {},
   "outputs": [],
   "source": [
    "divisor = 0\n",
    "\n",
    "if divisor != 0:\n",
    "    result = 19 / divisor\n",
    "else:\n",
    "    result = None  # or any other default value or error handling logic"
   ]
  }
 ],
 "metadata": {
  "kernelspec": {
   "display_name": "Python 3 (ipykernel)",
   "language": "python",
   "name": "python3"
  },
  "language_info": {
   "codemirror_mode": {
    "name": "ipython",
    "version": 3
   },
   "file_extension": ".py",
   "mimetype": "text/x-python",
   "name": "python",
   "nbconvert_exporter": "python",
   "pygments_lexer": "ipython3",
   "version": "3.9.13"
  }
 },
 "nbformat": 4,
 "nbformat_minor": 5
}
